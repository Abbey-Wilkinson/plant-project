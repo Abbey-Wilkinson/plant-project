{
 "cells": [
  {
   "cell_type": "code",
   "execution_count": 3,
   "metadata": {},
   "outputs": [
    {
     "name": "stdout",
     "output_type": "stream",
     "text": [
      "Requirement already satisfied: sqlalchemy in /opt/homebrew/lib/python3.11/site-packages (2.0.23)\n",
      "Requirement already satisfied: typing-extensions>=4.2.0 in /opt/homebrew/lib/python3.11/site-packages (from sqlalchemy) (4.9.0)\n",
      "Note: you may need to restart the kernel to use updated packages.\n"
     ]
    }
   ],
   "source": [
    "pip install -r requirements.txt"
   ]
  },
  {
   "cell_type": "code",
   "execution_count": 4,
   "metadata": {},
   "outputs": [
    {
     "ename": "ModuleNotFoundError",
     "evalue": "No module named 'pandas'",
     "output_type": "error",
     "traceback": [
      "\u001b[0;31m---------------------------------------------------------------------------\u001b[0m",
      "\u001b[0;31mModuleNotFoundError\u001b[0m                       Traceback (most recent call last)",
      "\u001b[1;32m/Users/abbeywilkinson/Documents/Coursework/plants/dashboard/notebook.ipynb Cell 2\u001b[0m line \u001b[0;36m4\n\u001b[1;32m      <a href='vscode-notebook-cell:/Users/abbeywilkinson/Documents/Coursework/plants/dashboard/notebook.ipynb#W0sZmlsZQ%3D%3D?line=0'>1</a>\u001b[0m \u001b[39mfrom\u001b[39;00m \u001b[39mos\u001b[39;00m \u001b[39mimport\u001b[39;00m environ\n\u001b[1;32m      <a href='vscode-notebook-cell:/Users/abbeywilkinson/Documents/Coursework/plants/dashboard/notebook.ipynb#W0sZmlsZQ%3D%3D?line=2'>3</a>\u001b[0m \u001b[39mfrom\u001b[39;00m \u001b[39msqlalchemy\u001b[39;00m \u001b[39mimport\u001b[39;00m Connection, create_engine, sql\n\u001b[0;32m----> <a href='vscode-notebook-cell:/Users/abbeywilkinson/Documents/Coursework/plants/dashboard/notebook.ipynb#W0sZmlsZQ%3D%3D?line=3'>4</a>\u001b[0m \u001b[39mimport\u001b[39;00m \u001b[39mpandas\u001b[39;00m \u001b[39mas\u001b[39;00m \u001b[39mpd\u001b[39;00m\n\u001b[1;32m      <a href='vscode-notebook-cell:/Users/abbeywilkinson/Documents/Coursework/plants/dashboard/notebook.ipynb#W0sZmlsZQ%3D%3D?line=4'>5</a>\u001b[0m \u001b[39mimport\u001b[39;00m \u001b[39maltair\u001b[39;00m \u001b[39mas\u001b[39;00m \u001b[39malt\u001b[39;00m\n\u001b[1;32m      <a href='vscode-notebook-cell:/Users/abbeywilkinson/Documents/Coursework/plants/dashboard/notebook.ipynb#W0sZmlsZQ%3D%3D?line=5'>6</a>\u001b[0m \u001b[39mfrom\u001b[39;00m \u001b[39mpandas\u001b[39;00m \u001b[39mimport\u001b[39;00m DataFrame\n",
      "\u001b[0;31mModuleNotFoundError\u001b[0m: No module named 'pandas'"
     ]
    }
   ],
   "source": [
    "from os import environ\n",
    "\n",
    "from sqlalchemy import Connection, create_engine, sql\n",
    "import pandas as pd\n",
    "import altair as alt\n",
    "from pandas import DataFrame\n",
    "from dotenv import load_dotenv\n",
    "\n",
    "load_dotenv()"
   ]
  },
  {
   "cell_type": "code",
   "execution_count": null,
   "metadata": {},
   "outputs": [
    {
     "ename": "",
     "evalue": "",
     "output_type": "error",
     "traceback": [
      "\u001b[1;31mRunning cells with '/usr/bin/python3' requires the ipykernel package.\n",
      "\u001b[1;31mRun the following command to install 'ipykernel' into the Python environment. \n",
      "\u001b[1;31mCommand: '/usr/bin/python3 -m pip install ipykernel -U --user --force-reinstall'"
     ]
    }
   ],
   "source": [
    "def get_database_connection() -> Connection:\n",
    "    \"\"\"\n",
    "    Establishes a database connection to the database specified.\n",
    "    \"\"\"\n",
    "\n",
    "    try:\n",
    "        engine = create_engine(\n",
    "            f\"mssql+pymssql://{environ['DB_USER']}:{environ['DB_PASSWORD']}@{environ['DB_HOST']}/?charset=utf8\")\n",
    "\n",
    "        return engine.connect()\n",
    "\n",
    "    except ConnectionError as error:\n",
    "        print(error)\n",
    "\n",
    "\n",
    "conn = get_database_connection()"
   ]
  },
  {
   "cell_type": "code",
   "execution_count": null,
   "metadata": {},
   "outputs": [
    {
     "ename": "",
     "evalue": "",
     "output_type": "error",
     "traceback": [
      "\u001b[1;31mRunning cells with '/usr/bin/python3' requires the ipykernel package.\n",
      "\u001b[1;31mRun the following command to install 'ipykernel' into the Python environment. \n",
      "\u001b[1;31mCommand: '/usr/bin/python3 -m pip install ipykernel -U --user --force-reinstall'"
     ]
    }
   ],
   "source": [
    "def load_all_plant_data(conn: Connection) -> DataFrame:\n",
    "\n",
    "    conn.execute(sql.text(\"USE plants;\"))\n",
    "\n",
    "    query = sql.text(\n",
    "        \"\"\"SELECT plant_condition.plant_condition_id,\n",
    "        plant_condition.at, plant_condition.soil_moisture,\n",
    "        plant_condition.temperature, plant_condition.last_watered,\n",
    "        plant.plant_id, plant.plant_name,\n",
    "        plant.scientific_name, botanist.botanist_id, botanist.first_name,\n",
    "        botanist.surname, botanist.email, botanist.phone_number,\n",
    "        origin.origin_id, origin.latitude, origin.longitude, origin.region\n",
    "        FROM s_epsilon.plant_condition\n",
    "        JOIN s_epsilon.plant ON s_epsilon.plant.plant_id = s_epsilon.plant_condition.plant_id\n",
    "        JOIN s_epsilon.botanist ON s_epsilon.botanist.botanist_id = s_epsilon.plant.botanist_id\n",
    "        JOIN s_epsilon.origin ON s_epsilon.origin.origin_id = s_epsilon.plant.origin_id;\"\"\")\n",
    "\n",
    "    conn.execute(sql.text(\"COMMIT;\"))\n",
    "    res = conn.execute(query).fetchall()\n",
    "    df = pd.DataFrame(res)\n",
    "\n",
    "    return df\n",
    "\n",
    "df = load_all_plant_data(conn)\n",
    "\n",
    "df.head(45)"
   ]
  },
  {
   "cell_type": "markdown",
   "metadata": {},
   "source": [
    "## Average soil moisture"
   ]
  },
  {
   "cell_type": "code",
   "execution_count": null,
   "metadata": {},
   "outputs": [
    {
     "ename": "",
     "evalue": "",
     "output_type": "error",
     "traceback": [
      "\u001b[1;31mRunning cells with '/usr/bin/python3' requires the ipykernel package.\n",
      "\u001b[1;31mRun the following command to install 'ipykernel' into the Python environment. \n",
      "\u001b[1;31mCommand: '/usr/bin/python3 -m pip install ipykernel -U --user --force-reinstall'"
     ]
    }
   ],
   "source": [
    "df[\"soil_moisture\"] = df[\"soil_moisture\"].astype(float)\n",
    "\n",
    "average_soil_moisture = df[\"soil_moisture\"].mean()\n",
    "\n",
    "average_soil_moisture"
   ]
  },
  {
   "cell_type": "code",
   "execution_count": null,
   "metadata": {},
   "outputs": [
    {
     "ename": "",
     "evalue": "",
     "output_type": "error",
     "traceback": [
      "\u001b[1;31mRunning cells with '/usr/bin/python3' requires the ipykernel package.\n",
      "\u001b[1;31mRun the following command to install 'ipykernel' into the Python environment. \n",
      "\u001b[1;31mCommand: '/usr/bin/python3 -m pip install ipykernel -U --user --force-reinstall'"
     ]
    }
   ],
   "source": [
    "\n",
    "def get_latest_data(df: DataFrame):\n",
    "    \"\"\"\n",
    "    Returns the latest data of each plant id.\n",
    "    \"\"\"\n",
    "    latest_indices = df.groupby('plant_id')['at'].idxmax()\n",
    "\n",
    "    latest_conditions = df.loc[latest_indices]\n",
    "\n",
    "    return latest_conditions\n",
    "\n",
    "\n",
    "\n",
    "def get_latest_temperature_readings(plants: DataFrame):\n",
    "    \"\"\"\n",
    "    Returns an altair bar chart that shows the latest temperature readings for each plant.\n",
    "    \"\"\"\n",
    "    latest_data = get_latest_data(plants)\n",
    "\n",
    "    latest_data = latest_data[[\"plant_name\", \"temperature\"]]\n",
    "    latest_temp_readings = alt.Chart(latest_data).mark_bar().encode(\n",
    "        y=alt.Y('plant_name:N'),\n",
    "        x='temperature:Q',\n",
    "        tooltip=['plant_name:N', 'temperature:Q'],\n",
    "        color=alt.Color('plant_name:N', legend=None).scale(scheme='blues')\n",
    "    ).properties(\n",
    "        title='Latest Temperature of Plants',\n",
    "        width=600\n",
    "    )\n",
    "    return latest_temp_readings\n",
    "\n",
    "get_latest_temperature_readings(df)"
   ]
  },
  {
   "cell_type": "code",
   "execution_count": null,
   "metadata": {},
   "outputs": [
    {
     "ename": "",
     "evalue": "",
     "output_type": "error",
     "traceback": [
      "\u001b[1;31mRunning cells with '/usr/bin/python3' requires the ipykernel package.\n",
      "\u001b[1;31mRun the following command to install 'ipykernel' into the Python environment. \n",
      "\u001b[1;31mCommand: '/usr/bin/python3 -m pip install ipykernel -U --user --force-reinstall'"
     ]
    }
   ],
   "source": [
    "unique = df[\"plant_name\"].unique()\n",
    "\n",
    "unique[0:2]"
   ]
  },
  {
   "cell_type": "code",
   "execution_count": null,
   "metadata": {},
   "outputs": [
    {
     "ename": "",
     "evalue": "",
     "output_type": "error",
     "traceback": [
      "\u001b[1;31mRunning cells with '/usr/bin/python3' requires the ipykernel package.\n",
      "\u001b[1;31mRun the following command to install 'ipykernel' into the Python environment. \n",
      "\u001b[1;31mCommand: '/usr/bin/python3 -m pip install ipykernel -U --user --force-reinstall'"
     ]
    }
   ],
   "source": [
    "from os import environ\n",
    "from boto3 import client\n",
    "\n",
    "from sqlalchemy import Connection, create_engine, sql\n",
    "import pandas as pd\n",
    "from pandas import DataFrame\n",
    "from dotenv import load_dotenv\n",
    "\n",
    "from parquet_extract import convert_to_df, download_parquet_files, remove_old_files, get_parquet\n",
    "\n",
    "\n",
    "s3 = client(\"s3\",\n",
    "                aws_access_key_id=environ[\"AWS_ACCESS_KEY_ID\"],\n",
    "                aws_secret_access_key=environ[\"AWS_SECRET_ACCESS_KEY\"])\n",
    "\n",
    "download_parquet_files(s3, get_parquet(s3))\n",
    "\n",
    "long_plants = convert_to_df()\n",
    "\n",
    "remove_old_files()\n",
    "\n",
    "\n",
    "\n",
    "def merge_long_and_short_dataframes(long_plants: DataFrame, plants: DataFrame):\n",
    "    \"\"\"\n",
    "    Returns a merged dataframe.\n",
    "    \"\"\"\n",
    "\n",
    "    long_plants[\"temperature\"] = long_plants[\"temp\"]\n",
    "    merged = pd.concat([plants, long_plants])\n",
    "    return merged\n",
    "\n",
    "\n",
    "merged = merge_long_and_short_dataframes(long_plants, df)\n",
    "\n",
    "\n",
    "merged"
   ]
  }
 ],
 "metadata": {
  "kernelspec": {
   "display_name": "venv",
   "language": "python",
   "name": "python3"
  },
  "language_info": {
   "codemirror_mode": {
    "name": "ipython",
    "version": 3
   },
   "file_extension": ".py",
   "mimetype": "text/x-python",
   "name": "python",
   "nbconvert_exporter": "python",
   "pygments_lexer": "ipython3",
   "version": "3.11.6"
  },
  "orig_nbformat": 4
 },
 "nbformat": 4,
 "nbformat_minor": 2
}
